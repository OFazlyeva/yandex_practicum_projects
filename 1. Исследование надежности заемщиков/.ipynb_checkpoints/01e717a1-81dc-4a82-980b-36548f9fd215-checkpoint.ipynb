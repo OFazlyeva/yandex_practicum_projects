{
 "cells": [
  {
   "cell_type": "markdown",
   "id": "6bf4e690",
   "metadata": {
    "deletable": false,
    "editable": false,
    "id": "c81daeeb"
   },
   "source": [
    "# Исследование надежности заемщиков\n"
   ]
  },
  {
   "cell_type": "markdown",
   "id": "43fec8aa",
   "metadata": {
    "deletable": false,
    "editable": false,
    "id": "827c20bf"
   },
   "source": [
    "Во второй части проекта вы выполните шаги 3 и 4. Их вручную проверит ревьюер.\n",
    "Чтобы вам не пришлось писать код заново для шагов 1 и 2, мы добавили авторские решения в ячейки с кодом. \n",
    "\n"
   ]
  },
  {
   "cell_type": "markdown",
   "id": "3246e98a",
   "metadata": {
    "deletable": false,
    "editable": false,
    "id": "744d7639"
   },
   "source": [
    "## Откройте таблицу и изучите общую информацию о данных"
   ]
  },
  {
   "cell_type": "markdown",
   "id": "10d5ffe6",
   "metadata": {
    "deletable": false,
    "editable": false,
    "id": "e7a14c31"
   },
   "source": [
    "**Задание 1. Импортируйте библиотеку pandas. Считайте данные из csv-файла в датафрейм и сохраните в переменную `data`. Путь к файлу:**\n",
    "\n",
    "`/datasets/data.csv`"
   ]
  },
  {
   "cell_type": "code",
   "execution_count": 1,
   "id": "7b59e894",
   "metadata": {
    "deletable": false,
    "id": "7bcf75c9"
   },
   "outputs": [],
   "source": [
    "import pandas as pd\n",
    "\n",
    "try:\n",
    "    data = pd.read_csv('/datasets/data.csv')\n",
    "except:\n",
    "    data = pd.read_csv('https://code.s3.yandex.net/datasets/data.csv')"
   ]
  },
  {
   "cell_type": "markdown",
   "id": "f56b381d",
   "metadata": {
    "deletable": false,
    "editable": false,
    "id": "b8038fe3"
   },
   "source": [
    "**Задание 2. Выведите первые 20 строчек датафрейма `data` на экран.**"
   ]
  },
  {
   "cell_type": "code",
   "execution_count": 2,
   "id": "3830c036",
   "metadata": {
    "deletable": false,
    "id": "2a7cab99",
    "outputId": "1a8f3ef2-d323-4ec2-ddf7-89670b5944c4"
   },
   "outputs": [
    {
     "data": {
      "text/html": [
       "<div>\n",
       "<style scoped>\n",
       "    .dataframe tbody tr th:only-of-type {\n",
       "        vertical-align: middle;\n",
       "    }\n",
       "\n",
       "    .dataframe tbody tr th {\n",
       "        vertical-align: top;\n",
       "    }\n",
       "\n",
       "    .dataframe thead th {\n",
       "        text-align: right;\n",
       "    }\n",
       "</style>\n",
       "<table border=\"1\" class=\"dataframe\">\n",
       "  <thead>\n",
       "    <tr style=\"text-align: right;\">\n",
       "      <th></th>\n",
       "      <th>children</th>\n",
       "      <th>days_employed</th>\n",
       "      <th>dob_years</th>\n",
       "      <th>education</th>\n",
       "      <th>education_id</th>\n",
       "      <th>family_status</th>\n",
       "      <th>family_status_id</th>\n",
       "      <th>gender</th>\n",
       "      <th>income_type</th>\n",
       "      <th>debt</th>\n",
       "      <th>total_income</th>\n",
       "      <th>purpose</th>\n",
       "    </tr>\n",
       "  </thead>\n",
       "  <tbody>\n",
       "    <tr>\n",
       "      <th>0</th>\n",
       "      <td>1</td>\n",
       "      <td>-8437.673028</td>\n",
       "      <td>42</td>\n",
       "      <td>высшее</td>\n",
       "      <td>0</td>\n",
       "      <td>женат / замужем</td>\n",
       "      <td>0</td>\n",
       "      <td>F</td>\n",
       "      <td>сотрудник</td>\n",
       "      <td>0</td>\n",
       "      <td>253875.639453</td>\n",
       "      <td>покупка жилья</td>\n",
       "    </tr>\n",
       "    <tr>\n",
       "      <th>1</th>\n",
       "      <td>1</td>\n",
       "      <td>-4024.803754</td>\n",
       "      <td>36</td>\n",
       "      <td>среднее</td>\n",
       "      <td>1</td>\n",
       "      <td>женат / замужем</td>\n",
       "      <td>0</td>\n",
       "      <td>F</td>\n",
       "      <td>сотрудник</td>\n",
       "      <td>0</td>\n",
       "      <td>112080.014102</td>\n",
       "      <td>приобретение автомобиля</td>\n",
       "    </tr>\n",
       "    <tr>\n",
       "      <th>2</th>\n",
       "      <td>0</td>\n",
       "      <td>-5623.422610</td>\n",
       "      <td>33</td>\n",
       "      <td>Среднее</td>\n",
       "      <td>1</td>\n",
       "      <td>женат / замужем</td>\n",
       "      <td>0</td>\n",
       "      <td>M</td>\n",
       "      <td>сотрудник</td>\n",
       "      <td>0</td>\n",
       "      <td>145885.952297</td>\n",
       "      <td>покупка жилья</td>\n",
       "    </tr>\n",
       "    <tr>\n",
       "      <th>3</th>\n",
       "      <td>3</td>\n",
       "      <td>-4124.747207</td>\n",
       "      <td>32</td>\n",
       "      <td>среднее</td>\n",
       "      <td>1</td>\n",
       "      <td>женат / замужем</td>\n",
       "      <td>0</td>\n",
       "      <td>M</td>\n",
       "      <td>сотрудник</td>\n",
       "      <td>0</td>\n",
       "      <td>267628.550329</td>\n",
       "      <td>дополнительное образование</td>\n",
       "    </tr>\n",
       "    <tr>\n",
       "      <th>4</th>\n",
       "      <td>0</td>\n",
       "      <td>340266.072047</td>\n",
       "      <td>53</td>\n",
       "      <td>среднее</td>\n",
       "      <td>1</td>\n",
       "      <td>гражданский брак</td>\n",
       "      <td>1</td>\n",
       "      <td>F</td>\n",
       "      <td>пенсионер</td>\n",
       "      <td>0</td>\n",
       "      <td>158616.077870</td>\n",
       "      <td>сыграть свадьбу</td>\n",
       "    </tr>\n",
       "    <tr>\n",
       "      <th>5</th>\n",
       "      <td>0</td>\n",
       "      <td>-926.185831</td>\n",
       "      <td>27</td>\n",
       "      <td>высшее</td>\n",
       "      <td>0</td>\n",
       "      <td>гражданский брак</td>\n",
       "      <td>1</td>\n",
       "      <td>M</td>\n",
       "      <td>компаньон</td>\n",
       "      <td>0</td>\n",
       "      <td>255763.565419</td>\n",
       "      <td>покупка жилья</td>\n",
       "    </tr>\n",
       "    <tr>\n",
       "      <th>6</th>\n",
       "      <td>0</td>\n",
       "      <td>-2879.202052</td>\n",
       "      <td>43</td>\n",
       "      <td>высшее</td>\n",
       "      <td>0</td>\n",
       "      <td>женат / замужем</td>\n",
       "      <td>0</td>\n",
       "      <td>F</td>\n",
       "      <td>компаньон</td>\n",
       "      <td>0</td>\n",
       "      <td>240525.971920</td>\n",
       "      <td>операции с жильем</td>\n",
       "    </tr>\n",
       "    <tr>\n",
       "      <th>7</th>\n",
       "      <td>0</td>\n",
       "      <td>-152.779569</td>\n",
       "      <td>50</td>\n",
       "      <td>СРЕДНЕЕ</td>\n",
       "      <td>1</td>\n",
       "      <td>женат / замужем</td>\n",
       "      <td>0</td>\n",
       "      <td>M</td>\n",
       "      <td>сотрудник</td>\n",
       "      <td>0</td>\n",
       "      <td>135823.934197</td>\n",
       "      <td>образование</td>\n",
       "    </tr>\n",
       "    <tr>\n",
       "      <th>8</th>\n",
       "      <td>2</td>\n",
       "      <td>-6929.865299</td>\n",
       "      <td>35</td>\n",
       "      <td>ВЫСШЕЕ</td>\n",
       "      <td>0</td>\n",
       "      <td>гражданский брак</td>\n",
       "      <td>1</td>\n",
       "      <td>F</td>\n",
       "      <td>сотрудник</td>\n",
       "      <td>0</td>\n",
       "      <td>95856.832424</td>\n",
       "      <td>на проведение свадьбы</td>\n",
       "    </tr>\n",
       "    <tr>\n",
       "      <th>9</th>\n",
       "      <td>0</td>\n",
       "      <td>-2188.756445</td>\n",
       "      <td>41</td>\n",
       "      <td>среднее</td>\n",
       "      <td>1</td>\n",
       "      <td>женат / замужем</td>\n",
       "      <td>0</td>\n",
       "      <td>M</td>\n",
       "      <td>сотрудник</td>\n",
       "      <td>0</td>\n",
       "      <td>144425.938277</td>\n",
       "      <td>покупка жилья для семьи</td>\n",
       "    </tr>\n",
       "    <tr>\n",
       "      <th>10</th>\n",
       "      <td>2</td>\n",
       "      <td>-4171.483647</td>\n",
       "      <td>36</td>\n",
       "      <td>высшее</td>\n",
       "      <td>0</td>\n",
       "      <td>женат / замужем</td>\n",
       "      <td>0</td>\n",
       "      <td>M</td>\n",
       "      <td>компаньон</td>\n",
       "      <td>0</td>\n",
       "      <td>113943.491460</td>\n",
       "      <td>покупка недвижимости</td>\n",
       "    </tr>\n",
       "    <tr>\n",
       "      <th>11</th>\n",
       "      <td>0</td>\n",
       "      <td>-792.701887</td>\n",
       "      <td>40</td>\n",
       "      <td>среднее</td>\n",
       "      <td>1</td>\n",
       "      <td>женат / замужем</td>\n",
       "      <td>0</td>\n",
       "      <td>F</td>\n",
       "      <td>сотрудник</td>\n",
       "      <td>0</td>\n",
       "      <td>77069.234271</td>\n",
       "      <td>покупка коммерческой недвижимости</td>\n",
       "    </tr>\n",
       "    <tr>\n",
       "      <th>12</th>\n",
       "      <td>0</td>\n",
       "      <td>NaN</td>\n",
       "      <td>65</td>\n",
       "      <td>среднее</td>\n",
       "      <td>1</td>\n",
       "      <td>гражданский брак</td>\n",
       "      <td>1</td>\n",
       "      <td>M</td>\n",
       "      <td>пенсионер</td>\n",
       "      <td>0</td>\n",
       "      <td>NaN</td>\n",
       "      <td>сыграть свадьбу</td>\n",
       "    </tr>\n",
       "    <tr>\n",
       "      <th>13</th>\n",
       "      <td>0</td>\n",
       "      <td>-1846.641941</td>\n",
       "      <td>54</td>\n",
       "      <td>неоконченное высшее</td>\n",
       "      <td>2</td>\n",
       "      <td>женат / замужем</td>\n",
       "      <td>0</td>\n",
       "      <td>F</td>\n",
       "      <td>сотрудник</td>\n",
       "      <td>0</td>\n",
       "      <td>130458.228857</td>\n",
       "      <td>приобретение автомобиля</td>\n",
       "    </tr>\n",
       "    <tr>\n",
       "      <th>14</th>\n",
       "      <td>0</td>\n",
       "      <td>-1844.956182</td>\n",
       "      <td>56</td>\n",
       "      <td>высшее</td>\n",
       "      <td>0</td>\n",
       "      <td>гражданский брак</td>\n",
       "      <td>1</td>\n",
       "      <td>F</td>\n",
       "      <td>компаньон</td>\n",
       "      <td>1</td>\n",
       "      <td>165127.911772</td>\n",
       "      <td>покупка жилой недвижимости</td>\n",
       "    </tr>\n",
       "    <tr>\n",
       "      <th>15</th>\n",
       "      <td>1</td>\n",
       "      <td>-972.364419</td>\n",
       "      <td>26</td>\n",
       "      <td>среднее</td>\n",
       "      <td>1</td>\n",
       "      <td>женат / замужем</td>\n",
       "      <td>0</td>\n",
       "      <td>F</td>\n",
       "      <td>сотрудник</td>\n",
       "      <td>0</td>\n",
       "      <td>116820.904450</td>\n",
       "      <td>строительство собственной недвижимости</td>\n",
       "    </tr>\n",
       "    <tr>\n",
       "      <th>16</th>\n",
       "      <td>0</td>\n",
       "      <td>-1719.934226</td>\n",
       "      <td>35</td>\n",
       "      <td>среднее</td>\n",
       "      <td>1</td>\n",
       "      <td>женат / замужем</td>\n",
       "      <td>0</td>\n",
       "      <td>F</td>\n",
       "      <td>сотрудник</td>\n",
       "      <td>0</td>\n",
       "      <td>289202.704229</td>\n",
       "      <td>недвижимость</td>\n",
       "    </tr>\n",
       "    <tr>\n",
       "      <th>17</th>\n",
       "      <td>0</td>\n",
       "      <td>-2369.999720</td>\n",
       "      <td>33</td>\n",
       "      <td>высшее</td>\n",
       "      <td>0</td>\n",
       "      <td>гражданский брак</td>\n",
       "      <td>1</td>\n",
       "      <td>M</td>\n",
       "      <td>сотрудник</td>\n",
       "      <td>0</td>\n",
       "      <td>90410.586745</td>\n",
       "      <td>строительство недвижимости</td>\n",
       "    </tr>\n",
       "    <tr>\n",
       "      <th>18</th>\n",
       "      <td>0</td>\n",
       "      <td>400281.136913</td>\n",
       "      <td>53</td>\n",
       "      <td>среднее</td>\n",
       "      <td>1</td>\n",
       "      <td>вдовец / вдова</td>\n",
       "      <td>2</td>\n",
       "      <td>F</td>\n",
       "      <td>пенсионер</td>\n",
       "      <td>0</td>\n",
       "      <td>56823.777243</td>\n",
       "      <td>на покупку подержанного автомобиля</td>\n",
       "    </tr>\n",
       "    <tr>\n",
       "      <th>19</th>\n",
       "      <td>0</td>\n",
       "      <td>-10038.818549</td>\n",
       "      <td>48</td>\n",
       "      <td>СРЕДНЕЕ</td>\n",
       "      <td>1</td>\n",
       "      <td>в разводе</td>\n",
       "      <td>3</td>\n",
       "      <td>F</td>\n",
       "      <td>сотрудник</td>\n",
       "      <td>0</td>\n",
       "      <td>242831.107982</td>\n",
       "      <td>на покупку своего автомобиля</td>\n",
       "    </tr>\n",
       "  </tbody>\n",
       "</table>\n",
       "</div>"
      ],
      "text/plain": [
       "    children  days_employed  dob_years            education  education_id  \\\n",
       "0          1   -8437.673028         42               высшее             0   \n",
       "1          1   -4024.803754         36              среднее             1   \n",
       "2          0   -5623.422610         33              Среднее             1   \n",
       "3          3   -4124.747207         32              среднее             1   \n",
       "4          0  340266.072047         53              среднее             1   \n",
       "5          0    -926.185831         27               высшее             0   \n",
       "6          0   -2879.202052         43               высшее             0   \n",
       "7          0    -152.779569         50              СРЕДНЕЕ             1   \n",
       "8          2   -6929.865299         35               ВЫСШЕЕ             0   \n",
       "9          0   -2188.756445         41              среднее             1   \n",
       "10         2   -4171.483647         36               высшее             0   \n",
       "11         0    -792.701887         40              среднее             1   \n",
       "12         0            NaN         65              среднее             1   \n",
       "13         0   -1846.641941         54  неоконченное высшее             2   \n",
       "14         0   -1844.956182         56               высшее             0   \n",
       "15         1    -972.364419         26              среднее             1   \n",
       "16         0   -1719.934226         35              среднее             1   \n",
       "17         0   -2369.999720         33               высшее             0   \n",
       "18         0  400281.136913         53              среднее             1   \n",
       "19         0  -10038.818549         48              СРЕДНЕЕ             1   \n",
       "\n",
       "       family_status  family_status_id gender income_type  debt  \\\n",
       "0    женат / замужем                 0      F   сотрудник     0   \n",
       "1    женат / замужем                 0      F   сотрудник     0   \n",
       "2    женат / замужем                 0      M   сотрудник     0   \n",
       "3    женат / замужем                 0      M   сотрудник     0   \n",
       "4   гражданский брак                 1      F   пенсионер     0   \n",
       "5   гражданский брак                 1      M   компаньон     0   \n",
       "6    женат / замужем                 0      F   компаньон     0   \n",
       "7    женат / замужем                 0      M   сотрудник     0   \n",
       "8   гражданский брак                 1      F   сотрудник     0   \n",
       "9    женат / замужем                 0      M   сотрудник     0   \n",
       "10   женат / замужем                 0      M   компаньон     0   \n",
       "11   женат / замужем                 0      F   сотрудник     0   \n",
       "12  гражданский брак                 1      M   пенсионер     0   \n",
       "13   женат / замужем                 0      F   сотрудник     0   \n",
       "14  гражданский брак                 1      F   компаньон     1   \n",
       "15   женат / замужем                 0      F   сотрудник     0   \n",
       "16   женат / замужем                 0      F   сотрудник     0   \n",
       "17  гражданский брак                 1      M   сотрудник     0   \n",
       "18    вдовец / вдова                 2      F   пенсионер     0   \n",
       "19         в разводе                 3      F   сотрудник     0   \n",
       "\n",
       "     total_income                                 purpose  \n",
       "0   253875.639453                           покупка жилья  \n",
       "1   112080.014102                 приобретение автомобиля  \n",
       "2   145885.952297                           покупка жилья  \n",
       "3   267628.550329              дополнительное образование  \n",
       "4   158616.077870                         сыграть свадьбу  \n",
       "5   255763.565419                           покупка жилья  \n",
       "6   240525.971920                       операции с жильем  \n",
       "7   135823.934197                             образование  \n",
       "8    95856.832424                   на проведение свадьбы  \n",
       "9   144425.938277                 покупка жилья для семьи  \n",
       "10  113943.491460                    покупка недвижимости  \n",
       "11   77069.234271       покупка коммерческой недвижимости  \n",
       "12            NaN                         сыграть свадьбу  \n",
       "13  130458.228857                 приобретение автомобиля  \n",
       "14  165127.911772              покупка жилой недвижимости  \n",
       "15  116820.904450  строительство собственной недвижимости  \n",
       "16  289202.704229                            недвижимость  \n",
       "17   90410.586745              строительство недвижимости  \n",
       "18   56823.777243      на покупку подержанного автомобиля  \n",
       "19  242831.107982            на покупку своего автомобиля  "
      ]
     },
     "execution_count": 2,
     "metadata": {},
     "output_type": "execute_result"
    }
   ],
   "source": [
    "data.head(20)"
   ]
  },
  {
   "cell_type": "markdown",
   "id": "ef8815b4",
   "metadata": {
    "deletable": false,
    "editable": false,
    "id": "1c12e233"
   },
   "source": [
    "**Задание 3. Выведите основную информацию о датафрейме с помощью метода `info()`.**"
   ]
  },
  {
   "cell_type": "code",
   "execution_count": 3,
   "id": "48d2b215",
   "metadata": {
    "deletable": false,
    "id": "2b757bca",
    "outputId": "15376089-8dad-46c9-b520-c05248d43158"
   },
   "outputs": [
    {
     "name": "stdout",
     "output_type": "stream",
     "text": [
      "<class 'pandas.core.frame.DataFrame'>\n",
      "RangeIndex: 21525 entries, 0 to 21524\n",
      "Data columns (total 12 columns):\n",
      " #   Column            Non-Null Count  Dtype  \n",
      "---  ------            --------------  -----  \n",
      " 0   children          21525 non-null  int64  \n",
      " 1   days_employed     19351 non-null  float64\n",
      " 2   dob_years         21525 non-null  int64  \n",
      " 3   education         21525 non-null  object \n",
      " 4   education_id      21525 non-null  int64  \n",
      " 5   family_status     21525 non-null  object \n",
      " 6   family_status_id  21525 non-null  int64  \n",
      " 7   gender            21525 non-null  object \n",
      " 8   income_type       21525 non-null  object \n",
      " 9   debt              21525 non-null  int64  \n",
      " 10  total_income      19351 non-null  float64\n",
      " 11  purpose           21525 non-null  object \n",
      "dtypes: float64(2), int64(5), object(5)\n",
      "memory usage: 2.0+ MB\n"
     ]
    }
   ],
   "source": [
    "data.info()"
   ]
  },
  {
   "cell_type": "markdown",
   "id": "9ac891f6",
   "metadata": {
    "deletable": false,
    "editable": false,
    "id": "333ec665"
   },
   "source": [
    "## Предобработка данных"
   ]
  },
  {
   "cell_type": "markdown",
   "id": "6d9b2695",
   "metadata": {
    "deletable": false,
    "editable": false,
    "id": "02d92d53"
   },
   "source": [
    "### Удаление пропусков"
   ]
  },
  {
   "cell_type": "markdown",
   "id": "4f242939",
   "metadata": {
    "deletable": false,
    "editable": false,
    "id": "cd84967c"
   },
   "source": [
    "**Задание 4. Выведите количество пропущенных значений для каждого столбца. Используйте комбинацию двух методов.**"
   ]
  },
  {
   "cell_type": "code",
   "execution_count": 4,
   "id": "da66aba1",
   "metadata": {
    "deletable": false,
    "id": "7f9b2309",
    "outputId": "81f4d817-781c-465c-ed15-91ce4446810d"
   },
   "outputs": [
    {
     "data": {
      "text/plain": [
       "children               0\n",
       "days_employed       2174\n",
       "dob_years              0\n",
       "education              0\n",
       "education_id           0\n",
       "family_status          0\n",
       "family_status_id       0\n",
       "gender                 0\n",
       "income_type            0\n",
       "debt                   0\n",
       "total_income        2174\n",
       "purpose                0\n",
       "dtype: int64"
      ]
     },
     "execution_count": 4,
     "metadata": {},
     "output_type": "execute_result"
    }
   ],
   "source": [
    "data.isna().sum()"
   ]
  },
  {
   "cell_type": "markdown",
   "id": "91a67321",
   "metadata": {
    "deletable": false,
    "editable": false,
    "id": "db86e27b"
   },
   "source": [
    "**Задание 5. В двух столбцах есть пропущенные значения. Один из них — `days_employed`. Пропуски в этом столбце вы обработаете на следующем этапе. Другой столбец с пропущенными значениями — `total_income` — хранит данные о доходах. На сумму дохода сильнее всего влияет тип занятости, поэтому заполнить пропуски в этом столбце нужно медианным значением по каждому типу из столбца `income_type`. Например, у человека с типом занятости `сотрудник` пропуск в столбце `total_income` должен быть заполнен медианным доходом среди всех записей с тем же типом.**"
   ]
  },
  {
   "cell_type": "code",
   "execution_count": 5,
   "id": "ef270f52",
   "metadata": {
    "deletable": false,
    "id": "42006a93"
   },
   "outputs": [],
   "source": [
    "for t in data['income_type'].unique():\n",
    "    data.loc[(data['income_type'] == t) & (data['total_income'].isna()), 'total_income'] = \\\n",
    "    data.loc[(data['income_type'] == t), 'total_income'].median()"
   ]
  },
  {
   "cell_type": "markdown",
   "id": "e6dd0a56",
   "metadata": {
    "deletable": false,
    "editable": false,
    "id": "89da5ece"
   },
   "source": [
    "### Обработка аномальных значений"
   ]
  },
  {
   "cell_type": "markdown",
   "id": "caad5d06",
   "metadata": {
    "deletable": false,
    "editable": false,
    "id": "57964554"
   },
   "source": [
    "**Задание 6. В данных могут встречаться артефакты (аномалии) — значения, которые не отражают действительность и появились по какой-то ошибке. таким артефактом будет отрицательное количество дней трудового стажа в столбце `days_employed`. Для реальных данных это нормально. Обработайте значения в этом столбце: замените все отрицательные значения положительными с помощью метода `abs()`.**"
   ]
  },
  {
   "cell_type": "code",
   "execution_count": 6,
   "id": "24916857",
   "metadata": {
    "deletable": false,
    "id": "f6f055bf"
   },
   "outputs": [],
   "source": [
    "data['days_employed'] = data['days_employed'].abs()"
   ]
  },
  {
   "cell_type": "markdown",
   "id": "ab2b94e3",
   "metadata": {
    "deletable": false,
    "editable": false,
    "id": "6107dd2f"
   },
   "source": [
    "**Задание 7. Для каждого типа занятости выведите медианное значение трудового стажа `days_employed` в днях.**"
   ]
  },
  {
   "cell_type": "code",
   "execution_count": 7,
   "id": "953f0b76",
   "metadata": {
    "deletable": false,
    "id": "85a5faf6",
    "outputId": "801ef80e-522b-4668-f34e-565af7432bcf"
   },
   "outputs": [
    {
     "data": {
      "text/plain": [
       "income_type\n",
       "безработный        366413.652744\n",
       "в декрете            3296.759962\n",
       "госслужащий          2689.368353\n",
       "компаньон            1547.382223\n",
       "пенсионер          365213.306266\n",
       "предприниматель       520.848083\n",
       "сотрудник            1574.202821\n",
       "студент               578.751554\n",
       "Name: days_employed, dtype: float64"
      ]
     },
     "execution_count": 7,
     "metadata": {},
     "output_type": "execute_result"
    }
   ],
   "source": [
    "data.groupby('income_type')['days_employed'].agg('median')"
   ]
  },
  {
   "cell_type": "markdown",
   "id": "62b44919",
   "metadata": {
    "deletable": false,
    "editable": false,
    "id": "38d1a030"
   },
   "source": [
    "У двух типов (безработные и пенсионеры) получатся аномально большие значения. Исправить такие значения сложно, поэтому оставьте их как есть. Тем более этот столбец не понадобится вам для исследования."
   ]
  },
  {
   "cell_type": "markdown",
   "id": "50b32360",
   "metadata": {
    "deletable": false,
    "editable": false,
    "id": "d8a9f147"
   },
   "source": [
    "**Задание 8. Выведите перечень уникальных значений столбца `children`.**"
   ]
  },
  {
   "cell_type": "code",
   "execution_count": 8,
   "id": "45a84ffc",
   "metadata": {
    "deletable": false,
    "id": "ef5056eb",
    "outputId": "6975b15c-7f95-4697-d16d-a0c79b657b03"
   },
   "outputs": [
    {
     "data": {
      "text/plain": [
       "array([ 1,  0,  3,  2, -1,  4, 20,  5])"
      ]
     },
     "execution_count": 8,
     "metadata": {},
     "output_type": "execute_result"
    }
   ],
   "source": [
    "data['children'].unique()"
   ]
  },
  {
   "cell_type": "markdown",
   "id": "6ac88217",
   "metadata": {
    "deletable": false,
    "editable": false,
    "id": "40b9ebf2"
   },
   "source": [
    "**Задание 9. В столбце `children` есть два аномальных значения. Удалите строки, в которых встречаются такие аномальные значения из датафрейма `data`.**"
   ]
  },
  {
   "cell_type": "code",
   "execution_count": 9,
   "id": "7bae5520",
   "metadata": {
    "deletable": false,
    "id": "3ff9801d"
   },
   "outputs": [],
   "source": [
    "data = data[(data['children'] != -1) & (data['children'] != 20)]"
   ]
  },
  {
   "cell_type": "markdown",
   "id": "9347b635",
   "metadata": {
    "deletable": false,
    "editable": false,
    "id": "bbc4d0ce"
   },
   "source": [
    "**Задание 10. Ещё раз выведите перечень уникальных значений столбца `children`, чтобы убедиться, что артефакты удалены.**"
   ]
  },
  {
   "cell_type": "code",
   "execution_count": 10,
   "id": "34bc91b1",
   "metadata": {
    "deletable": false,
    "id": "ad4fa8b7",
    "outputId": "b2097101-d49d-44d9-901b-32a65c9463d1"
   },
   "outputs": [
    {
     "data": {
      "text/plain": [
       "array([1, 0, 3, 2, 4, 5])"
      ]
     },
     "execution_count": 10,
     "metadata": {},
     "output_type": "execute_result"
    }
   ],
   "source": [
    "data['children'].unique()"
   ]
  },
  {
   "cell_type": "markdown",
   "id": "ba525813",
   "metadata": {
    "deletable": false,
    "editable": false,
    "id": "75440b63"
   },
   "source": [
    "### Удаление пропусков (продолжение)"
   ]
  },
  {
   "cell_type": "markdown",
   "id": "fdc331ed",
   "metadata": {
    "deletable": false,
    "editable": false,
    "id": "f4ea573f"
   },
   "source": [
    "**Задание 11. Заполните пропуски в столбце `days_employed` медианными значениями по каждого типа занятости `income_type`.**"
   ]
  },
  {
   "cell_type": "code",
   "execution_count": 11,
   "id": "716faac2",
   "metadata": {
    "deletable": false,
    "id": "af6b1a7e"
   },
   "outputs": [],
   "source": [
    "for t in data['income_type'].unique():\n",
    "    data.loc[(data['income_type'] == t) & (data['days_employed'].isna()), 'days_employed'] = \\\n",
    "    data.loc[(data['income_type'] == t), 'days_employed'].median()"
   ]
  },
  {
   "cell_type": "markdown",
   "id": "8388ab00",
   "metadata": {
    "deletable": false,
    "editable": false,
    "id": "2753f40d"
   },
   "source": [
    "**Задание 12. Убедитесь, что все пропуски заполнены. Проверьте себя и ещё раз выведите количество пропущенных значений для каждого столбца с помощью двух методов.**"
   ]
  },
  {
   "cell_type": "code",
   "execution_count": 12,
   "id": "0355e03b",
   "metadata": {
    "deletable": false,
    "id": "55f78bc2",
    "outputId": "8da1e4e1-358e-4e87-98c9-f261bce0a7b2"
   },
   "outputs": [
    {
     "data": {
      "text/plain": [
       "children            0\n",
       "days_employed       0\n",
       "dob_years           0\n",
       "education           0\n",
       "education_id        0\n",
       "family_status       0\n",
       "family_status_id    0\n",
       "gender              0\n",
       "income_type         0\n",
       "debt                0\n",
       "total_income        0\n",
       "purpose             0\n",
       "dtype: int64"
      ]
     },
     "execution_count": 12,
     "metadata": {},
     "output_type": "execute_result"
    }
   ],
   "source": [
    "data.isna().sum()"
   ]
  },
  {
   "cell_type": "markdown",
   "id": "760da853",
   "metadata": {
    "deletable": false,
    "editable": false,
    "id": "ddc81e43"
   },
   "source": [
    "### Изменение типов данных"
   ]
  },
  {
   "cell_type": "markdown",
   "id": "de3e5dd6",
   "metadata": {
    "deletable": false,
    "editable": false,
    "id": "42d19d24"
   },
   "source": [
    "**Задание 13. Замените вещественный тип данных в столбце `total_income` на целочисленный с помощью метода `astype()`.**"
   ]
  },
  {
   "cell_type": "code",
   "execution_count": 13,
   "id": "2935b0f1",
   "metadata": {
    "deletable": false,
    "id": "920b65ad"
   },
   "outputs": [],
   "source": [
    "data['total_income'] = data['total_income'].astype(int)"
   ]
  },
  {
   "cell_type": "markdown",
   "id": "5423c88a",
   "metadata": {
    "deletable": false,
    "editable": false,
    "id": "80c420ba"
   },
   "source": [
    "### Обработка дубликатов"
   ]
  },
  {
   "cell_type": "markdown",
   "id": "d469c8bc",
   "metadata": {
    "deletable": false,
    "editable": false
   },
   "source": [
    "**Задание 14. Обработайте неявные дубликаты в столбце `education`. В этом столбце есть одни и те же значения, но записанные по-разному: с использованием заглавных и строчных букв. Приведите их к нижнему регистру. Проверьте остальные столбцы.**"
   ]
  },
  {
   "cell_type": "code",
   "execution_count": 14,
   "id": "0be7f14f",
   "metadata": {
    "deletable": false
   },
   "outputs": [],
   "source": [
    "data['education'] = data['education'].str.lower()"
   ]
  },
  {
   "cell_type": "markdown",
   "id": "11bc72cc",
   "metadata": {
    "deletable": false,
    "editable": false,
    "id": "dc587695"
   },
   "source": [
    "**Задание 15. Выведите на экран количество строк-дубликатов в данных. Если такие строки присутствуют, удалите их.**"
   ]
  },
  {
   "cell_type": "code",
   "execution_count": 15,
   "id": "55e120ff",
   "metadata": {
    "deletable": false,
    "id": "3ee445e4",
    "outputId": "9684deba-1934-42d1-99e1-cda61740f822"
   },
   "outputs": [
    {
     "data": {
      "text/plain": [
       "71"
      ]
     },
     "execution_count": 15,
     "metadata": {},
     "output_type": "execute_result"
    }
   ],
   "source": [
    "data.duplicated().sum()"
   ]
  },
  {
   "cell_type": "code",
   "execution_count": 16,
   "id": "52dd8f9b",
   "metadata": {
    "deletable": false,
    "id": "8575fe05"
   },
   "outputs": [],
   "source": [
    "data = data.drop_duplicates()"
   ]
  },
  {
   "cell_type": "markdown",
   "id": "0801f15d",
   "metadata": {
    "deletable": false,
    "editable": false,
    "id": "9904cf55"
   },
   "source": [
    "### Категоризация данных"
   ]
  },
  {
   "cell_type": "markdown",
   "id": "005391bd",
   "metadata": {
    "deletable": false,
    "editable": false,
    "id": "72fcc8a2"
   },
   "source": [
    "**Задание 16. На основании диапазонов, указанных ниже, создайте в датафрейме `data` столбец `total_income_category` с категориями:**\n",
    "\n",
    "- 0–30000 — `'E'`;\n",
    "- 30001–50000 — `'D'`;\n",
    "- 50001–200000 — `'C'`;\n",
    "- 200001–1000000 — `'B'`;\n",
    "- 1000001 и выше — `'A'`.\n",
    "\n",
    "\n",
    "**Например, кредитополучателю с доходом 25000 нужно назначить категорию `'E'`, а клиенту, получающему 235000, — `'B'`. Используйте собственную функцию с именем `categorize_income()` и метод `apply()`.**"
   ]
  },
  {
   "cell_type": "code",
   "execution_count": 17,
   "id": "d750521c",
   "metadata": {
    "deletable": false,
    "id": "e1771346"
   },
   "outputs": [],
   "source": [
    "def categorize_income(income):\n",
    "    try:\n",
    "        if 0 <= income <= 30000:\n",
    "            return 'E'\n",
    "        elif 30001 <= income <= 50000:\n",
    "            return 'D'\n",
    "        elif 50001 <= income <= 200000:\n",
    "            return 'C'\n",
    "        elif 200001 <= income <= 1000000:\n",
    "            return 'B'\n",
    "        elif income >= 1000001:\n",
    "            return 'A'\n",
    "    except:\n",
    "        pass"
   ]
  },
  {
   "cell_type": "code",
   "execution_count": 18,
   "id": "573d6bc5",
   "metadata": {
    "deletable": false,
    "id": "d5f3586d"
   },
   "outputs": [],
   "source": [
    "data['total_income_category'] = data['total_income'].apply(categorize_income)"
   ]
  },
  {
   "cell_type": "markdown",
   "id": "1d0c4117",
   "metadata": {
    "deletable": false,
    "editable": false,
    "id": "dde49b5c"
   },
   "source": [
    "**Задание 17. Выведите на экран перечень уникальных целей взятия кредита из столбца `purpose`.**"
   ]
  },
  {
   "cell_type": "code",
   "execution_count": 19,
   "id": "eb798333",
   "metadata": {
    "deletable": false,
    "id": "f67ce9b3",
    "outputId": "673c12d9-7d7e-4ae0-9812-c622c89dd244"
   },
   "outputs": [
    {
     "data": {
      "text/plain": [
       "array(['покупка жилья', 'приобретение автомобиля',\n",
       "       'дополнительное образование', 'сыграть свадьбу',\n",
       "       'операции с жильем', 'образование', 'на проведение свадьбы',\n",
       "       'покупка жилья для семьи', 'покупка недвижимости',\n",
       "       'покупка коммерческой недвижимости', 'покупка жилой недвижимости',\n",
       "       'строительство собственной недвижимости', 'недвижимость',\n",
       "       'строительство недвижимости', 'на покупку подержанного автомобиля',\n",
       "       'на покупку своего автомобиля',\n",
       "       'операции с коммерческой недвижимостью',\n",
       "       'строительство жилой недвижимости', 'жилье',\n",
       "       'операции со своей недвижимостью', 'автомобили',\n",
       "       'заняться образованием', 'сделка с подержанным автомобилем',\n",
       "       'получение образования', 'автомобиль', 'свадьба',\n",
       "       'получение дополнительного образования', 'покупка своего жилья',\n",
       "       'операции с недвижимостью', 'получение высшего образования',\n",
       "       'свой автомобиль', 'сделка с автомобилем',\n",
       "       'профильное образование', 'высшее образование',\n",
       "       'покупка жилья для сдачи', 'на покупку автомобиля', 'ремонт жилью',\n",
       "       'заняться высшим образованием'], dtype=object)"
      ]
     },
     "execution_count": 19,
     "metadata": {},
     "output_type": "execute_result"
    }
   ],
   "source": [
    "data['purpose'].unique()"
   ]
  },
  {
   "cell_type": "markdown",
   "id": "2dba806c",
   "metadata": {
    "deletable": false,
    "editable": false,
    "id": "85d0aef0"
   },
   "source": [
    "**Задание 18. Создайте функцию, которая на основании данных из столбца `purpose` сформирует новый столбец `purpose_category`, в который войдут следующие категории:**\n",
    "\n",
    "- `'операции с автомобилем'`,\n",
    "- `'операции с недвижимостью'`,\n",
    "- `'проведение свадьбы'`,\n",
    "- `'получение образования'`.\n",
    "\n",
    "**Например, если в столбце `purpose` находится подстрока `'на покупку автомобиля'`, то в столбце `purpose_category` должна появиться строка `'операции с автомобилем'`.**\n",
    "\n",
    "**Используйте собственную функцию с именем `categorize_purpose()` и метод `apply()`. Изучите данные в столбце `purpose` и определите, какие подстроки помогут вам правильно определить категорию.**"
   ]
  },
  {
   "cell_type": "code",
   "execution_count": 20,
   "id": "f84b6c7f",
   "metadata": {
    "deletable": false,
    "id": "e149fab4"
   },
   "outputs": [],
   "source": [
    "def categorize_purpose(row):\n",
    "    try:\n",
    "        if 'автом' in row:\n",
    "            return 'операции с автомобилем'\n",
    "        elif 'жил' in row or 'недвиж' in row:\n",
    "            return 'операции с недвижимостью'\n",
    "        elif 'свад' in row:\n",
    "            return 'проведение свадьбы'\n",
    "        elif 'образов' in row:\n",
    "            return 'получение образования'\n",
    "    except:\n",
    "        return 'нет категории'"
   ]
  },
  {
   "cell_type": "code",
   "execution_count": 21,
   "id": "91a78397",
   "metadata": {
    "deletable": false,
    "id": "bf36e69b"
   },
   "outputs": [],
   "source": [
    "data['purpose_category'] = data['purpose'].apply(categorize_purpose)"
   ]
  },
  {
   "cell_type": "markdown",
   "id": "24526a6c",
   "metadata": {
    "deletable": false,
    "editable": false,
    "id": "09b242bf"
   },
   "source": [
    "### Шаг 3. Исследуйте данные и ответьте на вопросы"
   ]
  },
  {
   "cell_type": "markdown",
   "id": "fdb789ef",
   "metadata": {
    "deletable": false,
    "editable": false,
    "id": "c5d66278"
   },
   "source": [
    "#### 3.1 Есть ли зависимость между количеством детей и возвратом кредита в срок?"
   ]
  },
  {
   "cell_type": "code",
   "execution_count": 22,
   "id": "8daf8f64",
   "metadata": {},
   "outputs": [],
   "source": [
    "import matplotlib.pyplot as plt"
   ]
  },
  {
   "cell_type": "code",
   "execution_count": 23,
   "id": "892ed56f",
   "metadata": {
    "deletable": false,
    "id": "2cacfc4a",
    "scrolled": true
   },
   "outputs": [
    {
     "data": {
      "text/html": [
       "<div>\n",
       "<style scoped>\n",
       "    .dataframe tbody tr th:only-of-type {\n",
       "        vertical-align: middle;\n",
       "    }\n",
       "\n",
       "    .dataframe tbody tr th {\n",
       "        vertical-align: top;\n",
       "    }\n",
       "\n",
       "    .dataframe thead tr th {\n",
       "        text-align: left;\n",
       "    }\n",
       "\n",
       "    .dataframe thead tr:last-of-type th {\n",
       "        text-align: right;\n",
       "    }\n",
       "</style>\n",
       "<table border=\"1\" class=\"dataframe\">\n",
       "  <thead>\n",
       "    <tr>\n",
       "      <th></th>\n",
       "      <th colspan=\"3\" halign=\"left\">debt</th>\n",
       "    </tr>\n",
       "    <tr>\n",
       "      <th></th>\n",
       "      <th>count</th>\n",
       "      <th>sum</th>\n",
       "      <th>mean</th>\n",
       "    </tr>\n",
       "    <tr>\n",
       "      <th>children</th>\n",
       "      <th></th>\n",
       "      <th></th>\n",
       "      <th></th>\n",
       "    </tr>\n",
       "  </thead>\n",
       "  <tbody>\n",
       "    <tr>\n",
       "      <th>0</th>\n",
       "      <td>14091</td>\n",
       "      <td>1063</td>\n",
       "      <td>0.075438</td>\n",
       "    </tr>\n",
       "    <tr>\n",
       "      <th>1</th>\n",
       "      <td>4808</td>\n",
       "      <td>444</td>\n",
       "      <td>0.092346</td>\n",
       "    </tr>\n",
       "    <tr>\n",
       "      <th>2</th>\n",
       "      <td>2052</td>\n",
       "      <td>194</td>\n",
       "      <td>0.094542</td>\n",
       "    </tr>\n",
       "    <tr>\n",
       "      <th>3</th>\n",
       "      <td>330</td>\n",
       "      <td>27</td>\n",
       "      <td>0.081818</td>\n",
       "    </tr>\n",
       "    <tr>\n",
       "      <th>4</th>\n",
       "      <td>41</td>\n",
       "      <td>4</td>\n",
       "      <td>0.097561</td>\n",
       "    </tr>\n",
       "    <tr>\n",
       "      <th>5</th>\n",
       "      <td>9</td>\n",
       "      <td>0</td>\n",
       "      <td>0.000000</td>\n",
       "    </tr>\n",
       "  </tbody>\n",
       "</table>\n",
       "</div>"
      ],
      "text/plain": [
       "           debt                \n",
       "          count   sum      mean\n",
       "children                       \n",
       "0         14091  1063  0.075438\n",
       "1          4808   444  0.092346\n",
       "2          2052   194  0.094542\n",
       "3           330    27  0.081818\n",
       "4            41     4  0.097561\n",
       "5             9     0  0.000000"
      ]
     },
     "metadata": {},
     "output_type": "display_data"
    }
   ],
   "source": [
    "d_children = data.groupby('children').agg({'debt': ['count', 'sum', 'mean']})\n",
    "display(d_children)"
   ]
  },
  {
   "cell_type": "code",
   "execution_count": 24,
   "id": "b7db0aa0",
   "metadata": {},
   "outputs": [
    {
     "data": {
      "image/png": "[encoded data removed]",
      "text/plain": [
       "<Figure size 432x288 with 1 Axes>"
      ]
     },
     "metadata": {
      "needs_background": "light"
     },
     "output_type": "display_data"
    }
   ],
   "source": [
    "plt.plot(d_children['debt']['mean'])\n",
    "plt.show()"
   ]
  },
  {
   "cell_type": "code",
   "execution_count": 27,
   "id": "cfb5b46d",
   "metadata": {},
   "outputs": [
    {
     "data": {
      "image/png": "[encoded data removed]",
      "text/plain": [
       "<Figure size 720x432 with 1 Axes>"
      ]
     },
     "metadata": {
      "needs_background": "light"
     },
     "output_type": "display_data"
    }
   ],
   "source": [
    "d_children['debt']['mean'].plot(kind='bar', figsize=(10,6), title='График с названием', color='y', alpha=0.5, rot=0)\n",
    "plt.show()"
   ]
  },
  {
   "cell_type": "markdown",
   "id": "83bbee42",
   "metadata": {
    "deletable": false,
    "id": "3a6b99ec"
   },
   "source": [
    "**Вывод:** "
   ]
  },
  {
   "cell_type": "markdown",
   "id": "ab374c4a",
   "metadata": {},
   "source": [
    "Имеется небольшая зависимость возврата кредита в срок от количества детей - те, у кого нет детей возвращают кредиты в срок чаще, чем те, у кого дети есть.\n",
    "Выборка по тем, у кого 5 детей слишком мала, ее можно не брать в расчет."
   ]
  },
  {
   "cell_type": "markdown",
   "id": "85b214d8",
   "metadata": {
    "deletable": false,
    "editable": false,
    "id": "97be82ca"
   },
   "source": [
    "#### 3.2 Есть ли зависимость между семейным положением и возвратом кредита в срок?"
   ]
  },
  {
   "cell_type": "code",
   "execution_count": 36,
   "id": "6ed4aa5d",
   "metadata": {
    "deletable": false,
    "id": "dc3f7ee8"
   },
   "outputs": [
    {
     "data": {
      "text/html": [
       "<div>\n",
       "<style scoped>\n",
       "    .dataframe tbody tr th:only-of-type {\n",
       "        vertical-align: middle;\n",
       "    }\n",
       "\n",
       "    .dataframe tbody tr th {\n",
       "        vertical-align: top;\n",
       "    }\n",
       "\n",
       "    .dataframe thead tr th {\n",
       "        text-align: left;\n",
       "    }\n",
       "\n",
       "    .dataframe thead tr:last-of-type th {\n",
       "        text-align: right;\n",
       "    }\n",
       "</style>\n",
       "<table border=\"1\" class=\"dataframe\">\n",
       "  <thead>\n",
       "    <tr>\n",
       "      <th></th>\n",
       "      <th colspan=\"3\" halign=\"left\">debt</th>\n",
       "    </tr>\n",
       "    <tr>\n",
       "      <th></th>\n",
       "      <th>count</th>\n",
       "      <th>sum</th>\n",
       "      <th>mean</th>\n",
       "    </tr>\n",
       "    <tr>\n",
       "      <th>family_status</th>\n",
       "      <th></th>\n",
       "      <th></th>\n",
       "      <th></th>\n",
       "    </tr>\n",
       "  </thead>\n",
       "  <tbody>\n",
       "    <tr>\n",
       "      <th>Не женат / не замужем</th>\n",
       "      <td>2796</td>\n",
       "      <td>273</td>\n",
       "      <td>0.097639</td>\n",
       "    </tr>\n",
       "    <tr>\n",
       "      <th>в разводе</th>\n",
       "      <td>1189</td>\n",
       "      <td>84</td>\n",
       "      <td>0.070648</td>\n",
       "    </tr>\n",
       "    <tr>\n",
       "      <th>вдовец / вдова</th>\n",
       "      <td>951</td>\n",
       "      <td>63</td>\n",
       "      <td>0.066246</td>\n",
       "    </tr>\n",
       "    <tr>\n",
       "      <th>гражданский брак</th>\n",
       "      <td>4134</td>\n",
       "      <td>385</td>\n",
       "      <td>0.093130</td>\n",
       "    </tr>\n",
       "    <tr>\n",
       "      <th>женат / замужем</th>\n",
       "      <td>12261</td>\n",
       "      <td>927</td>\n",
       "      <td>0.075606</td>\n",
       "    </tr>\n",
       "  </tbody>\n",
       "</table>\n",
       "</div>"
      ],
      "text/plain": [
       "                        debt               \n",
       "                       count  sum      mean\n",
       "family_status                              \n",
       "Не женат / не замужем   2796  273  0.097639\n",
       "в разводе               1189   84  0.070648\n",
       "вдовец / вдова           951   63  0.066246\n",
       "гражданский брак        4134  385  0.093130\n",
       "женат / замужем        12261  927  0.075606"
      ]
     },
     "metadata": {},
     "output_type": "display_data"
    }
   ],
   "source": [
    "d_family_status = data.groupby('family_status').agg({'debt': ['count', 'sum', 'mean']})\n",
    "display(d_family_status)"
   ]
  },
  {
   "cell_type": "code",
   "execution_count": 37,
   "id": "829f8a6a",
   "metadata": {},
   "outputs": [
    {
     "data": {
      "image/png": "[encoded data removed]",
      "text/plain": [
       "<Figure size 432x288 with 1 Axes>"
      ]
     },
     "metadata": {
      "needs_background": "light"
     },
     "output_type": "display_data"
    }
   ],
   "source": [
    "plt.plot(d_family_status['debt']['mean'])\n",
    "plt.show()"
   ]
  },
  {
   "cell_type": "markdown",
   "id": "0b13ee04",
   "metadata": {
    "deletable": false,
    "id": "1cef7837"
   },
   "source": [
    "**Вывод:** "
   ]
  },
  {
   "cell_type": "markdown",
   "id": "0362a23f",
   "metadata": {},
   "source": [
    "Имеется зависимость возврата кредита в срок от семейного положения - не женатые/ не замужем и находящиеся в гражданском браке чаще задерживают выплаты по кредитам.\n",
    "Реже всего задерживают разведенные и вдовцы."
   ]
  },
  {
   "cell_type": "markdown",
   "id": "7a420db2",
   "metadata": {
    "deletable": false,
    "editable": false,
    "id": "1e8b2fca"
   },
   "source": [
    "#### 3.3 Есть ли зависимость между уровнем дохода и возвратом кредита в срок?"
   ]
  },
  {
   "cell_type": "code",
   "execution_count": 38,
   "id": "fe0284f3",
   "metadata": {
    "deletable": false,
    "id": "cd7e3720"
   },
   "outputs": [
    {
     "data": {
      "text/html": [
       "<div>\n",
       "<style scoped>\n",
       "    .dataframe tbody tr th:only-of-type {\n",
       "        vertical-align: middle;\n",
       "    }\n",
       "\n",
       "    .dataframe tbody tr th {\n",
       "        vertical-align: top;\n",
       "    }\n",
       "\n",
       "    .dataframe thead tr th {\n",
       "        text-align: left;\n",
       "    }\n",
       "\n",
       "    .dataframe thead tr:last-of-type th {\n",
       "        text-align: right;\n",
       "    }\n",
       "</style>\n",
       "<table border=\"1\" class=\"dataframe\">\n",
       "  <thead>\n",
       "    <tr>\n",
       "      <th></th>\n",
       "      <th colspan=\"3\" halign=\"left\">debt</th>\n",
       "    </tr>\n",
       "    <tr>\n",
       "      <th></th>\n",
       "      <th>count</th>\n",
       "      <th>sum</th>\n",
       "      <th>mean</th>\n",
       "    </tr>\n",
       "    <tr>\n",
       "      <th>total_income_category</th>\n",
       "      <th></th>\n",
       "      <th></th>\n",
       "      <th></th>\n",
       "    </tr>\n",
       "  </thead>\n",
       "  <tbody>\n",
       "    <tr>\n",
       "      <th>A</th>\n",
       "      <td>25</td>\n",
       "      <td>2</td>\n",
       "      <td>0.080000</td>\n",
       "    </tr>\n",
       "    <tr>\n",
       "      <th>B</th>\n",
       "      <td>5014</td>\n",
       "      <td>354</td>\n",
       "      <td>0.070602</td>\n",
       "    </tr>\n",
       "    <tr>\n",
       "      <th>C</th>\n",
       "      <td>15921</td>\n",
       "      <td>1353</td>\n",
       "      <td>0.084982</td>\n",
       "    </tr>\n",
       "    <tr>\n",
       "      <th>D</th>\n",
       "      <td>349</td>\n",
       "      <td>21</td>\n",
       "      <td>0.060172</td>\n",
       "    </tr>\n",
       "    <tr>\n",
       "      <th>E</th>\n",
       "      <td>22</td>\n",
       "      <td>2</td>\n",
       "      <td>0.090909</td>\n",
       "    </tr>\n",
       "  </tbody>\n",
       "</table>\n",
       "</div>"
      ],
      "text/plain": [
       "                        debt                \n",
       "                       count   sum      mean\n",
       "total_income_category                       \n",
       "A                         25     2  0.080000\n",
       "B                       5014   354  0.070602\n",
       "C                      15921  1353  0.084982\n",
       "D                        349    21  0.060172\n",
       "E                         22     2  0.090909"
      ]
     },
     "metadata": {},
     "output_type": "display_data"
    }
   ],
   "source": [
    "d_income = data.groupby('total_income_category').agg({'debt': ['count', 'sum', 'mean']})\n",
    "display(d_income)"
   ]
  },
  {
   "cell_type": "code",
   "execution_count": 39,
   "id": "bb41777b",
   "metadata": {},
   "outputs": [
    {
     "data": {
      "image/png": "[encoded data removed]",
      "text/plain": [
       "<Figure size 432x288 with 1 Axes>"
      ]
     },
     "metadata": {
      "needs_background": "light"
     },
     "output_type": "display_data"
    }
   ],
   "source": [
    "plt.plot(d_income['debt']['mean'])\n",
    "plt.show()"
   ]
  },
  {
   "cell_type": "markdown",
   "id": "489b59f7",
   "metadata": {
    "deletable": false,
    "id": "e8593def"
   },
   "source": [
    "**Вывод:** "
   ]
  },
  {
   "cell_type": "markdown",
   "id": "ed236baa",
   "metadata": {},
   "source": [
    "Реже всего задерживают выплаты люди в категории D, т.е с маленьким доходом в 30001–50000.\n",
    "Обращаю внимание на то, что выборка людей с доходом из категории Е (менее 30000) слишком мала (всего 22 человека), что говорит о том, что банк изначально отказывал таким клиентам и все же из 22 человек 2 нарушили сроки выплаты кредита. Данная категория потенциально несет в себе риски, однако для более детального анализа необходимы еще данные."
   ]
  },
  {
   "cell_type": "markdown",
   "id": "e31f0fdb",
   "metadata": {
    "deletable": false,
    "editable": false,
    "id": "99ecbd1f"
   },
   "source": [
    "#### 3.4 Как разные цели кредита влияют на его возврат в срок?"
   ]
  },
  {
   "cell_type": "code",
   "execution_count": 40,
   "id": "ba05a514",
   "metadata": {
    "deletable": false,
    "id": "2b687290"
   },
   "outputs": [
    {
     "data": {
      "text/html": [
       "<div>\n",
       "<style scoped>\n",
       "    .dataframe tbody tr th:only-of-type {\n",
       "        vertical-align: middle;\n",
       "    }\n",
       "\n",
       "    .dataframe tbody tr th {\n",
       "        vertical-align: top;\n",
       "    }\n",
       "\n",
       "    .dataframe thead tr th {\n",
       "        text-align: left;\n",
       "    }\n",
       "\n",
       "    .dataframe thead tr:last-of-type th {\n",
       "        text-align: right;\n",
       "    }\n",
       "</style>\n",
       "<table border=\"1\" class=\"dataframe\">\n",
       "  <thead>\n",
       "    <tr>\n",
       "      <th></th>\n",
       "      <th colspan=\"3\" halign=\"left\">debt</th>\n",
       "    </tr>\n",
       "    <tr>\n",
       "      <th></th>\n",
       "      <th>count</th>\n",
       "      <th>sum</th>\n",
       "      <th>mean</th>\n",
       "    </tr>\n",
       "    <tr>\n",
       "      <th>purpose_category</th>\n",
       "      <th></th>\n",
       "      <th></th>\n",
       "      <th></th>\n",
       "    </tr>\n",
       "  </thead>\n",
       "  <tbody>\n",
       "    <tr>\n",
       "      <th>операции с автомобилем</th>\n",
       "      <td>4279</td>\n",
       "      <td>400</td>\n",
       "      <td>0.093480</td>\n",
       "    </tr>\n",
       "    <tr>\n",
       "      <th>операции с недвижимостью</th>\n",
       "      <td>10751</td>\n",
       "      <td>780</td>\n",
       "      <td>0.072551</td>\n",
       "    </tr>\n",
       "    <tr>\n",
       "      <th>получение образования</th>\n",
       "      <td>3988</td>\n",
       "      <td>369</td>\n",
       "      <td>0.092528</td>\n",
       "    </tr>\n",
       "    <tr>\n",
       "      <th>проведение свадьбы</th>\n",
       "      <td>2313</td>\n",
       "      <td>183</td>\n",
       "      <td>0.079118</td>\n",
       "    </tr>\n",
       "  </tbody>\n",
       "</table>\n",
       "</div>"
      ],
      "text/plain": [
       "                           debt               \n",
       "                          count  sum      mean\n",
       "purpose_category                              \n",
       "операции с автомобилем     4279  400  0.093480\n",
       "операции с недвижимостью  10751  780  0.072551\n",
       "получение образования      3988  369  0.092528\n",
       "проведение свадьбы         2313  183  0.079118"
      ]
     },
     "metadata": {},
     "output_type": "display_data"
    }
   ],
   "source": [
    "d_purpose = data.groupby('purpose_category').agg({'debt': ['count', 'sum', 'mean']})\n",
    "display(d_purpose)"
   ]
  },
  {
   "cell_type": "code",
   "execution_count": 41,
   "id": "5396fe29",
   "metadata": {},
   "outputs": [
    {
     "data": {
      "image/png": "[encoded data removed]",
      "text/plain": [
       "<Figure size 432x288 with 1 Axes>"
      ]
     },
     "metadata": {
      "needs_background": "light"
     },
     "output_type": "display_data"
    }
   ],
   "source": [
    "plt.plot(d_purpose['debt']['mean'])\n",
    "plt.show()"
   ]
  },
  {
   "cell_type": "markdown",
   "id": "e54064c6",
   "metadata": {
    "deletable": false,
    "id": "b4bb2ce6"
   },
   "source": [
    "**Вывод:** "
   ]
  },
  {
   "cell_type": "markdown",
   "id": "1983d9f6",
   "metadata": {},
   "source": [
    "Имеется зависимость возврата в срок от типа кредита:\n",
    "<font color='blue'>\n",
    "- чаще возвращают в срок кредиты на недвижимость и на свадьбу;\n",
    "- реже - по операциям с автомобилем и на образование.</font>"
   ]
  },
  {
   "cell_type": "markdown",
   "id": "27a5eb38",
   "metadata": {
    "deletable": false,
    "editable": false,
    "id": "09c3ac4c"
   },
   "source": [
    "#### 3.5 Приведите возможные причины появления пропусков в исходных данных."
   ]
  },
  {
   "cell_type": "markdown",
   "id": "cb7dad00",
   "metadata": {
    "deletable": false,
    "id": "9da2ceda"
   },
   "source": [
    "*Ответ:* Это скорее всего неслучайные пропуски - либо опрашиваемые отказывались предоставлять данные по доходу и стажу, либо форма сбора данных не содержала необходимых полей для заполнения."
   ]
  },
  {
   "cell_type": "markdown",
   "id": "ad14e053",
   "metadata": {
    "deletable": false,
    "editable": false,
    "id": "7b0487d6"
   },
   "source": [
    "#### 3.6 Объясните, почему заполнить пропуски медианным значением — лучшее решение для количественных переменных."
   ]
  },
  {
   "cell_type": "markdown",
   "id": "a8dba274",
   "metadata": {
    "deletable": false,
    "id": "7ecf2b8e"
   },
   "source": [
    "*Ответ:* Пропуски в количественных переменных заполняют характерными для определенного набора данных значениями. В данном случае в столбцах с данными по стажу и доходом мы имеем сильно разрозненные по величинам данные - есть и очень большие и очень маленькие. Среднее арифметическое лучше использовать с данными, величины которых приблизительно равны друг другу, так как оно может быть значительно больше или меньше большинства чисел. А так как медиана - это уровень показателя, который делит набор данных на две равные половины, то на неё не влияют выбивающиеся из общей массы числа."
   ]
  },
  {
   "cell_type": "markdown",
   "id": "42459823",
   "metadata": {
    "deletable": false,
    "editable": false,
    "id": "6db5255a"
   },
   "source": [
    "### Шаг 4: общий вывод."
   ]
  },
  {
   "cell_type": "markdown",
   "id": "7e2ad81a",
   "metadata": {
    "deletable": false,
    "id": "bad65432"
   },
   "source": [
    "Исходя из данных чаще всего вовремя погашают кредиты на недвижимость вдовы/вдовцы без детей с доходом в диапазоне 30 001–50 000.\n",
    "<font color='blue'>Необходимо обратить внимание на заемщиков с категорией доходов С (50 001–200 000), не состоящих в браке, а также цели кредита на автомобиль и образование  - у них больше всего просрочек по выплате кредитов. \n",
    "Стоит обратить внимание на людей с доходами менее 30 000, данная категория потенциально несет в себе риски. </font>\n",
    "Семейное положение, цель кредита и доходы сильно влияют на вовзрат кредита в срок, в отличие от наличия у человека детей."
   ]
  },
  {
   "cell_type": "code",
   "execution_count": null,
   "id": "ee2f9e1e",
   "metadata": {},
   "outputs": [],
   "source": []
  }
 ],
 "metadata": {
  "ExecuteTimeLog": [
   {
    "duration": 448,
    "start_time": "2022-11-01T20:05:26.975Z"
   },
   {
    "duration": 22,
    "start_time": "2022-11-01T20:05:27.426Z"
   },
   {
    "duration": 15,
    "start_time": "2022-11-01T20:05:27.450Z"
   },
   {
    "duration": 10,
    "start_time": "2022-11-01T20:05:27.467Z"
   },
   {
    "duration": 55,
    "start_time": "2022-11-01T20:05:27.479Z"
   },
   {
    "duration": 4,
    "start_time": "2022-11-01T20:05:27.536Z"
   },
   {
    "duration": 12,
    "start_time": "2022-11-01T20:05:27.541Z"
   },
   {
    "duration": 7,
    "start_time": "2022-11-01T20:05:27.555Z"
   },
   {
    "duration": 10,
    "start_time": "2022-11-01T20:05:27.564Z"
   },
   {
    "duration": 4,
    "start_time": "2022-11-01T20:05:27.578Z"
   },
   {
    "duration": 61,
    "start_time": "2022-11-01T20:05:27.584Z"
   },
   {
    "duration": 15,
    "start_time": "2022-11-01T20:05:27.647Z"
   },
   {
    "duration": 4,
    "start_time": "2022-11-01T20:05:27.664Z"
   },
   {
    "duration": 15,
    "start_time": "2022-11-01T20:05:27.670Z"
   },
   {
    "duration": 25,
    "start_time": "2022-11-01T20:05:27.686Z"
   },
   {
    "duration": 43,
    "start_time": "2022-11-01T20:05:27.713Z"
   },
   {
    "duration": 4,
    "start_time": "2022-11-01T20:05:27.759Z"
   },
   {
    "duration": 17,
    "start_time": "2022-11-01T20:05:27.765Z"
   },
   {
    "duration": 13,
    "start_time": "2022-11-01T20:05:27.784Z"
   },
   {
    "duration": 4,
    "start_time": "2022-11-01T20:05:27.799Z"
   },
   {
    "duration": 35,
    "start_time": "2022-11-01T20:05:27.805Z"
   },
   {
    "duration": 6,
    "start_time": "2022-11-01T20:05:27.841Z"
   },
   {
    "duration": 4,
    "start_time": "2022-11-01T20:05:27.849Z"
   },
   {
    "duration": 5,
    "start_time": "2022-11-01T20:05:27.854Z"
   },
   {
    "duration": 4,
    "start_time": "2022-11-01T20:05:27.861Z"
   },
   {
    "duration": 51,
    "start_time": "2022-11-02T08:32:51.896Z"
   },
   {
    "duration": 797,
    "start_time": "2022-11-02T08:33:04.646Z"
   },
   {
    "duration": 27,
    "start_time": "2022-11-02T08:33:05.446Z"
   },
   {
    "duration": 150,
    "start_time": "2022-11-02T08:33:05.475Z"
   },
   {
    "duration": 51,
    "start_time": "2022-11-02T08:33:05.628Z"
   },
   {
    "duration": 147,
    "start_time": "2022-11-02T08:33:05.681Z"
   },
   {
    "duration": 15,
    "start_time": "2022-11-02T08:33:05.830Z"
   },
   {
    "duration": 46,
    "start_time": "2022-11-02T08:33:05.847Z"
   },
   {
    "duration": 40,
    "start_time": "2022-11-02T08:33:05.895Z"
   },
   {
    "duration": 61,
    "start_time": "2022-11-02T08:33:05.937Z"
   },
   {
    "duration": 28,
    "start_time": "2022-11-02T08:33:06.000Z"
   },
   {
    "duration": 50,
    "start_time": "2022-11-02T08:33:06.030Z"
   },
   {
    "duration": 10,
    "start_time": "2022-11-02T08:33:06.082Z"
   },
   {
    "duration": 25,
    "start_time": "2022-11-02T08:33:06.094Z"
   },
   {
    "duration": 45,
    "start_time": "2022-11-02T08:33:06.122Z"
   },
   {
    "duration": 97,
    "start_time": "2022-11-02T08:33:06.169Z"
   },
   {
    "duration": 81,
    "start_time": "2022-11-02T08:33:06.268Z"
   },
   {
    "duration": 10,
    "start_time": "2022-11-02T08:33:06.352Z"
   },
   {
    "duration": 31,
    "start_time": "2022-11-02T08:33:06.365Z"
   },
   {
    "duration": 31,
    "start_time": "2022-11-02T08:33:06.398Z"
   },
   {
    "duration": 24,
    "start_time": "2022-11-02T08:33:06.431Z"
   },
   {
    "duration": 32,
    "start_time": "2022-11-02T08:33:06.457Z"
   },
   {
    "duration": 40,
    "start_time": "2022-11-02T08:33:06.491Z"
   },
   {
    "duration": 50,
    "start_time": "2022-11-02T08:33:06.533Z"
   },
   {
    "duration": 49,
    "start_time": "2022-11-02T08:33:06.585Z"
   },
   {
    "duration": 28,
    "start_time": "2022-11-02T08:33:06.636Z"
   },
   {
    "duration": 8,
    "start_time": "2022-11-02T08:34:08.537Z"
   },
   {
    "duration": 8,
    "start_time": "2022-11-02T08:34:17.184Z"
   },
   {
    "duration": 18,
    "start_time": "2022-11-02T08:58:10.182Z"
   },
   {
    "duration": 8,
    "start_time": "2022-11-02T09:12:29.662Z"
   },
   {
    "duration": 68,
    "start_time": "2022-11-02T09:17:59.850Z"
   },
   {
    "duration": 438,
    "start_time": "2022-11-02T09:18:43.905Z"
   },
   {
    "duration": 23,
    "start_time": "2022-11-02T09:18:44.345Z"
   },
   {
    "duration": 15,
    "start_time": "2022-11-02T09:18:44.370Z"
   },
   {
    "duration": 26,
    "start_time": "2022-11-02T09:18:44.387Z"
   },
   {
    "duration": 84,
    "start_time": "2022-11-02T09:18:44.416Z"
   },
   {
    "duration": 5,
    "start_time": "2022-11-02T09:18:44.503Z"
   },
   {
    "duration": 19,
    "start_time": "2022-11-02T09:18:44.510Z"
   },
   {
    "duration": 6,
    "start_time": "2022-11-02T09:18:44.532Z"
   },
   {
    "duration": 11,
    "start_time": "2022-11-02T09:18:44.554Z"
   },
   {
    "duration": 7,
    "start_time": "2022-11-02T09:18:44.569Z"
   },
   {
    "duration": 60,
    "start_time": "2022-11-02T09:18:44.578Z"
   },
   {
    "duration": 22,
    "start_time": "2022-11-02T09:18:44.640Z"
   },
   {
    "duration": 7,
    "start_time": "2022-11-02T09:18:44.664Z"
   },
   {
    "duration": 30,
    "start_time": "2022-11-02T09:18:44.673Z"
   },
   {
    "duration": 24,
    "start_time": "2022-11-02T09:18:44.705Z"
   },
   {
    "duration": 35,
    "start_time": "2022-11-02T09:18:44.731Z"
   },
   {
    "duration": 4,
    "start_time": "2022-11-02T09:18:44.768Z"
   },
   {
    "duration": 15,
    "start_time": "2022-11-02T09:18:44.774Z"
   },
   {
    "duration": 7,
    "start_time": "2022-11-02T09:18:44.791Z"
   },
   {
    "duration": 6,
    "start_time": "2022-11-02T09:18:44.800Z"
   },
   {
    "duration": 11,
    "start_time": "2022-11-02T09:18:44.807Z"
   },
   {
    "duration": 103,
    "start_time": "2022-11-02T09:18:44.820Z"
   },
   {
    "duration": 0,
    "start_time": "2022-11-02T09:18:44.925Z"
   },
   {
    "duration": 0,
    "start_time": "2022-11-02T09:18:44.927Z"
   },
   {
    "duration": 0,
    "start_time": "2022-11-02T09:18:44.928Z"
   },
   {
    "duration": 19,
    "start_time": "2022-11-02T09:20:10.515Z"
   },
   {
    "duration": 12,
    "start_time": "2022-11-02T09:20:42.498Z"
   },
   {
    "duration": 6,
    "start_time": "2022-11-02T09:25:46.468Z"
   },
   {
    "duration": 1139,
    "start_time": "2022-11-02T09:26:30.682Z"
   },
   {
    "duration": 6,
    "start_time": "2022-11-02T09:27:15.875Z"
   },
   {
    "duration": 11,
    "start_time": "2022-11-02T10:10:17.802Z"
   },
   {
    "duration": 598,
    "start_time": "2022-11-02T10:10:23.188Z"
   },
   {
    "duration": 127,
    "start_time": "2022-11-02T10:13:12.592Z"
   },
   {
    "duration": 14,
    "start_time": "2022-11-02T10:13:52.480Z"
   },
   {
    "duration": 14,
    "start_time": "2022-11-02T10:25:40.258Z"
   },
   {
    "duration": 102,
    "start_time": "2022-11-02T10:26:10.435Z"
   },
   {
    "duration": 13,
    "start_time": "2022-11-02T10:26:18.716Z"
   },
   {
    "duration": 113,
    "start_time": "2022-11-02T10:26:21.671Z"
   },
   {
    "duration": 9,
    "start_time": "2022-11-02T10:26:41.385Z"
   },
   {
    "duration": 8,
    "start_time": "2022-11-02T10:26:56.951Z"
   },
   {
    "duration": 212,
    "start_time": "2022-11-02T10:27:16.448Z"
   },
   {
    "duration": 80,
    "start_time": "2022-11-02T10:35:00.338Z"
   },
   {
    "duration": 470,
    "start_time": "2022-11-02T10:35:24.985Z"
   },
   {
    "duration": 26,
    "start_time": "2022-11-02T10:35:25.456Z"
   },
   {
    "duration": 18,
    "start_time": "2022-11-02T10:35:25.484Z"
   },
   {
    "duration": 17,
    "start_time": "2022-11-02T10:35:25.505Z"
   },
   {
    "duration": 87,
    "start_time": "2022-11-02T10:35:25.525Z"
   },
   {
    "duration": 6,
    "start_time": "2022-11-02T10:35:25.614Z"
   },
   {
    "duration": 20,
    "start_time": "2022-11-02T10:35:25.622Z"
   },
   {
    "duration": 6,
    "start_time": "2022-11-02T10:35:25.654Z"
   },
   {
    "duration": 13,
    "start_time": "2022-11-02T10:35:25.662Z"
   },
   {
    "duration": 5,
    "start_time": "2022-11-02T10:35:25.679Z"
   },
   {
    "duration": 40,
    "start_time": "2022-11-02T10:35:25.685Z"
   },
   {
    "duration": 31,
    "start_time": "2022-11-02T10:35:25.727Z"
   },
   {
    "duration": 7,
    "start_time": "2022-11-02T10:35:25.760Z"
   },
   {
    "duration": 26,
    "start_time": "2022-11-02T10:35:25.768Z"
   },
   {
    "duration": 37,
    "start_time": "2022-11-02T10:35:25.796Z"
   },
   {
    "duration": 18,
    "start_time": "2022-11-02T10:35:25.835Z"
   },
   {
    "duration": 4,
    "start_time": "2022-11-02T10:35:25.854Z"
   },
   {
    "duration": 27,
    "start_time": "2022-11-02T10:35:25.859Z"
   },
   {
    "duration": 14,
    "start_time": "2022-11-02T10:35:25.888Z"
   },
   {
    "duration": 4,
    "start_time": "2022-11-02T10:35:25.904Z"
   },
   {
    "duration": 19,
    "start_time": "2022-11-02T10:35:25.909Z"
   },
   {
    "duration": 20,
    "start_time": "2022-11-02T10:35:25.930Z"
   },
   {
    "duration": 385,
    "start_time": "2022-11-02T10:35:25.952Z"
   },
   {
    "duration": 21,
    "start_time": "2022-11-02T10:35:26.339Z"
   },
   {
    "duration": 158,
    "start_time": "2022-11-02T10:35:26.362Z"
   },
   {
    "duration": 59,
    "start_time": "2022-11-02T10:35:26.522Z"
   },
   {
    "duration": 0,
    "start_time": "2022-11-02T10:35:26.583Z"
   },
   {
    "duration": 13,
    "start_time": "2022-11-02T10:35:34.565Z"
   },
   {
    "duration": 72,
    "start_time": "2022-11-02T10:36:10.386Z"
   },
   {
    "duration": 131,
    "start_time": "2022-11-02T10:36:16.792Z"
   },
   {
    "duration": 14,
    "start_time": "2022-11-02T10:49:08.929Z"
   },
   {
    "duration": 124,
    "start_time": "2022-11-02T10:49:39.105Z"
   },
   {
    "duration": 26,
    "start_time": "2022-11-02T10:59:48.952Z"
   },
   {
    "duration": 23,
    "start_time": "2022-11-02T11:00:04.180Z"
   },
   {
    "duration": 22,
    "start_time": "2022-11-02T11:00:13.629Z"
   },
   {
    "duration": 456,
    "start_time": "2022-11-02T11:00:34.090Z"
   },
   {
    "duration": 27,
    "start_time": "2022-11-02T11:00:34.548Z"
   },
   {
    "duration": 19,
    "start_time": "2022-11-02T11:00:34.577Z"
   },
   {
    "duration": 9,
    "start_time": "2022-11-02T11:00:34.598Z"
   },
   {
    "duration": 53,
    "start_time": "2022-11-02T11:00:34.609Z"
   },
   {
    "duration": 4,
    "start_time": "2022-11-02T11:00:34.664Z"
   },
   {
    "duration": 49,
    "start_time": "2022-11-02T11:00:34.670Z"
   },
   {
    "duration": 7,
    "start_time": "2022-11-02T11:00:34.721Z"
   },
   {
    "duration": 10,
    "start_time": "2022-11-02T11:00:34.730Z"
   },
   {
    "duration": 7,
    "start_time": "2022-11-02T11:00:34.743Z"
   },
   {
    "duration": 44,
    "start_time": "2022-11-02T11:00:34.751Z"
   },
   {
    "duration": 10,
    "start_time": "2022-11-02T11:00:34.797Z"
   },
   {
    "duration": 13,
    "start_time": "2022-11-02T11:00:34.809Z"
   },
   {
    "duration": 19,
    "start_time": "2022-11-02T11:00:34.824Z"
   },
   {
    "duration": 32,
    "start_time": "2022-11-02T11:00:34.844Z"
   },
   {
    "duration": 18,
    "start_time": "2022-11-02T11:00:34.878Z"
   },
   {
    "duration": 5,
    "start_time": "2022-11-02T11:00:34.898Z"
   },
   {
    "duration": 20,
    "start_time": "2022-11-02T11:00:34.905Z"
   },
   {
    "duration": 28,
    "start_time": "2022-11-02T11:00:34.927Z"
   },
   {
    "duration": 23,
    "start_time": "2022-11-02T11:00:34.956Z"
   },
   {
    "duration": 27,
    "start_time": "2022-11-02T11:00:34.981Z"
   },
   {
    "duration": 56,
    "start_time": "2022-11-02T11:00:35.010Z"
   },
   {
    "duration": 643,
    "start_time": "2022-11-02T11:00:35.068Z"
   },
   {
    "duration": 13,
    "start_time": "2022-11-02T11:00:35.713Z"
   },
   {
    "duration": 162,
    "start_time": "2022-11-02T11:00:35.727Z"
   },
   {
    "duration": 14,
    "start_time": "2022-11-02T11:00:35.891Z"
   },
   {
    "duration": 174,
    "start_time": "2022-11-02T11:00:35.906Z"
   },
   {
    "duration": 15,
    "start_time": "2022-11-02T11:00:36.084Z"
   },
   {
    "duration": 153,
    "start_time": "2022-11-02T11:00:36.101Z"
   },
   {
    "duration": 25,
    "start_time": "2022-11-02T11:12:46.745Z"
   },
   {
    "duration": 7,
    "start_time": "2022-11-02T11:14:03.353Z"
   },
   {
    "duration": 76,
    "start_time": "2022-11-02T11:14:40.205Z"
   },
   {
    "duration": 14,
    "start_time": "2022-11-02T11:14:46.910Z"
   },
   {
    "duration": 12,
    "start_time": "2022-11-02T11:15:15.927Z"
   },
   {
    "duration": 10,
    "start_time": "2022-11-02T11:16:17.258Z"
   },
   {
    "duration": 520,
    "start_time": "2022-11-02T11:16:30.533Z"
   },
   {
    "duration": 33,
    "start_time": "2022-11-02T11:16:31.056Z"
   },
   {
    "duration": 26,
    "start_time": "2022-11-02T11:16:31.091Z"
   },
   {
    "duration": 40,
    "start_time": "2022-11-02T11:16:31.121Z"
   },
   {
    "duration": 46,
    "start_time": "2022-11-02T11:16:31.163Z"
   },
   {
    "duration": 4,
    "start_time": "2022-11-02T11:16:31.211Z"
   },
   {
    "duration": 40,
    "start_time": "2022-11-02T11:16:31.216Z"
   },
   {
    "duration": 31,
    "start_time": "2022-11-02T11:16:31.257Z"
   },
   {
    "duration": 21,
    "start_time": "2022-11-02T11:16:31.290Z"
   },
   {
    "duration": 17,
    "start_time": "2022-11-02T11:16:31.314Z"
   },
   {
    "duration": 49,
    "start_time": "2022-11-02T11:16:31.332Z"
   },
   {
    "duration": 17,
    "start_time": "2022-11-02T11:16:31.383Z"
   },
   {
    "duration": 30,
    "start_time": "2022-11-02T11:16:31.402Z"
   },
   {
    "duration": 56,
    "start_time": "2022-11-02T11:16:31.434Z"
   },
   {
    "duration": 92,
    "start_time": "2022-11-02T11:16:31.493Z"
   },
   {
    "duration": 26,
    "start_time": "2022-11-02T11:16:31.588Z"
   },
   {
    "duration": 13,
    "start_time": "2022-11-02T11:16:31.619Z"
   },
   {
    "duration": 29,
    "start_time": "2022-11-02T11:16:31.634Z"
   },
   {
    "duration": 32,
    "start_time": "2022-11-02T11:16:31.666Z"
   },
   {
    "duration": 19,
    "start_time": "2022-11-02T11:16:31.701Z"
   },
   {
    "duration": 26,
    "start_time": "2022-11-02T11:16:31.721Z"
   },
   {
    "duration": 31,
    "start_time": "2022-11-02T11:16:31.749Z"
   },
   {
    "duration": 389,
    "start_time": "2022-11-02T11:16:31.782Z"
   },
   {
    "duration": 14,
    "start_time": "2022-11-02T11:16:32.173Z"
   },
   {
    "duration": 168,
    "start_time": "2022-11-02T11:16:32.188Z"
   },
   {
    "duration": 14,
    "start_time": "2022-11-02T11:16:32.359Z"
   },
   {
    "duration": 170,
    "start_time": "2022-11-02T11:16:32.375Z"
   },
   {
    "duration": 18,
    "start_time": "2022-11-02T11:16:32.548Z"
   },
   {
    "duration": 142,
    "start_time": "2022-11-02T11:16:32.567Z"
   },
   {
    "duration": 18,
    "start_time": "2022-11-02T11:34:52.287Z"
   },
   {
    "duration": 465,
    "start_time": "2022-11-02T11:59:04.991Z"
   },
   {
    "duration": 23,
    "start_time": "2022-11-02T11:59:05.459Z"
   },
   {
    "duration": 16,
    "start_time": "2022-11-02T11:59:05.486Z"
   },
   {
    "duration": 16,
    "start_time": "2022-11-02T11:59:05.504Z"
   },
   {
    "duration": 64,
    "start_time": "2022-11-02T11:59:05.522Z"
   },
   {
    "duration": 4,
    "start_time": "2022-11-02T11:59:05.589Z"
   },
   {
    "duration": 37,
    "start_time": "2022-11-02T11:59:05.596Z"
   },
   {
    "duration": 19,
    "start_time": "2022-11-02T11:59:05.635Z"
   },
   {
    "duration": 21,
    "start_time": "2022-11-02T11:59:05.658Z"
   },
   {
    "duration": 10,
    "start_time": "2022-11-02T11:59:05.681Z"
   },
   {
    "duration": 43,
    "start_time": "2022-11-02T11:59:05.692Z"
   },
   {
    "duration": 10,
    "start_time": "2022-11-02T11:59:05.737Z"
   },
   {
    "duration": 14,
    "start_time": "2022-11-02T11:59:05.748Z"
   },
   {
    "duration": 22,
    "start_time": "2022-11-02T11:59:05.764Z"
   },
   {
    "duration": 36,
    "start_time": "2022-11-02T11:59:05.787Z"
   },
   {
    "duration": 19,
    "start_time": "2022-11-02T11:59:05.825Z"
   },
   {
    "duration": 4,
    "start_time": "2022-11-02T11:59:05.845Z"
   },
   {
    "duration": 25,
    "start_time": "2022-11-02T11:59:05.851Z"
   },
   {
    "duration": 12,
    "start_time": "2022-11-02T11:59:05.877Z"
   },
   {
    "duration": 11,
    "start_time": "2022-11-02T11:59:05.891Z"
   },
   {
    "duration": 17,
    "start_time": "2022-11-02T11:59:05.903Z"
   },
   {
    "duration": 18,
    "start_time": "2022-11-02T11:59:05.921Z"
   },
   {
    "duration": 392,
    "start_time": "2022-11-02T11:59:05.940Z"
   },
   {
    "duration": 21,
    "start_time": "2022-11-02T11:59:06.334Z"
   },
   {
    "duration": 153,
    "start_time": "2022-11-02T11:59:06.356Z"
   },
   {
    "duration": 13,
    "start_time": "2022-11-02T11:59:06.510Z"
   },
   {
    "duration": 149,
    "start_time": "2022-11-02T11:59:06.526Z"
   },
   {
    "duration": 16,
    "start_time": "2022-11-02T11:59:06.677Z"
   },
   {
    "duration": 145,
    "start_time": "2022-11-02T11:59:06.695Z"
   },
   {
    "duration": 13,
    "start_time": "2022-11-02T14:26:25.959Z"
   },
   {
    "duration": 136,
    "start_time": "2022-11-02T14:28:20.815Z"
   },
   {
    "duration": 3,
    "start_time": "2022-11-02T14:28:57.902Z"
   },
   {
    "duration": 80,
    "start_time": "2022-11-02T14:29:12.332Z"
   },
   {
    "duration": 56,
    "start_time": "2022-11-02T14:30:55.175Z"
   },
   {
    "duration": 176,
    "start_time": "2022-11-02T14:31:39.436Z"
   },
   {
    "duration": 14,
    "start_time": "2022-11-02T14:32:06.005Z"
   },
   {
    "duration": 128,
    "start_time": "2022-11-02T14:32:25.504Z"
   },
   {
    "duration": 14,
    "start_time": "2022-11-02T14:33:23.200Z"
   },
   {
    "duration": 105,
    "start_time": "2022-11-02T14:33:40.896Z"
   },
   {
    "duration": 16,
    "start_time": "2022-11-02T14:40:07.263Z"
   },
   {
    "duration": 103,
    "start_time": "2022-11-02T14:40:27.317Z"
   },
   {
    "duration": 663,
    "start_time": "2022-11-02T17:13:05.939Z"
   },
   {
    "duration": 38,
    "start_time": "2022-11-02T17:13:06.605Z"
   },
   {
    "duration": 24,
    "start_time": "2022-11-02T17:13:06.648Z"
   },
   {
    "duration": 11,
    "start_time": "2022-11-02T17:13:06.675Z"
   },
   {
    "duration": 58,
    "start_time": "2022-11-02T17:13:06.689Z"
   },
   {
    "duration": 7,
    "start_time": "2022-11-02T17:13:06.748Z"
   },
   {
    "duration": 22,
    "start_time": "2022-11-02T17:13:06.756Z"
   },
   {
    "duration": 4,
    "start_time": "2022-11-02T17:13:06.780Z"
   },
   {
    "duration": 10,
    "start_time": "2022-11-02T17:13:06.786Z"
   },
   {
    "duration": 4,
    "start_time": "2022-11-02T17:13:06.799Z"
   },
   {
    "duration": 76,
    "start_time": "2022-11-02T17:13:06.805Z"
   },
   {
    "duration": 11,
    "start_time": "2022-11-02T17:13:06.883Z"
   },
   {
    "duration": 43,
    "start_time": "2022-11-02T17:13:06.901Z"
   },
   {
    "duration": 27,
    "start_time": "2022-11-02T17:13:06.946Z"
   },
   {
    "duration": 27,
    "start_time": "2022-11-02T17:13:06.975Z"
   },
   {
    "duration": 18,
    "start_time": "2022-11-02T17:13:07.004Z"
   },
   {
    "duration": 4,
    "start_time": "2022-11-02T17:13:07.024Z"
   },
   {
    "duration": 32,
    "start_time": "2022-11-02T17:13:07.029Z"
   },
   {
    "duration": 15,
    "start_time": "2022-11-02T17:13:07.063Z"
   },
   {
    "duration": 5,
    "start_time": "2022-11-02T17:13:07.080Z"
   },
   {
    "duration": 21,
    "start_time": "2022-11-02T17:13:07.087Z"
   },
   {
    "duration": 267,
    "start_time": "2022-11-02T17:13:07.109Z"
   },
   {
    "duration": 14,
    "start_time": "2022-11-02T17:13:07.377Z"
   },
   {
    "duration": 139,
    "start_time": "2022-11-02T17:13:07.393Z"
   },
   {
    "duration": 192,
    "start_time": "2022-11-02T17:15:33.338Z"
   },
   {
    "duration": 133,
    "start_time": "2022-11-02T17:16:15.016Z"
   },
   {
    "duration": 141,
    "start_time": "2022-11-02T17:16:39.498Z"
   }
  ],
  "colab": {
   "name": "dpp_template_part2.ipynb",
   "provenance": []
  },
  "kernelspec": {
   "display_name": "Python 3 (ipykernel)",
   "language": "python",
   "name": "python3"
  },
  "language_info": {
   "codemirror_mode": {
    "name": "ipython",
    "version": 3
   },
   "file_extension": ".py",
   "mimetype": "text/x-python",
   "name": "python",
   "nbconvert_exporter": "python",
   "pygments_lexer": "ipython3",
   "version": "3.9.13"
  },
  "toc": {
   "base_numbering": 1,
   "nav_menu": {},
   "number_sections": true,
   "sideBar": true,
   "skip_h1_title": true,
   "title_cell": "Table of Contents",
   "title_sidebar": "Contents",
   "toc_cell": false,
   "toc_position": {},
   "toc_section_display": true,
   "toc_window_display": false
  }
 },
 "nbformat": 4,
 "nbformat_minor": 5
}
